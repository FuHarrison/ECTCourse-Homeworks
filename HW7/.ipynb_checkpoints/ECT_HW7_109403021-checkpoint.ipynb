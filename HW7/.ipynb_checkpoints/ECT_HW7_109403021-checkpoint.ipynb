{
 "cells": [
  {
   "cell_type": "markdown",
   "id": "b7228b64",
   "metadata": {},
   "source": [
    "## 第1題"
   ]
  },
  {
   "cell_type": "code",
   "execution_count": 7,
   "id": "ff2472df",
   "metadata": {},
   "outputs": [
    {
     "name": "stdout",
     "output_type": "stream",
     "text": [
      "\n",
      "每個欄位的遺漏值個數：\n",
      "government_consumption             0\n",
      "transfers                          0\n",
      "gov_enterprises                    0\n",
      "top_marg_tax_rate                  0\n",
      "size_government                    0\n",
      "judicial_independence              0\n",
      "impartial_courts                   0\n",
      "protection_property_rights         0\n",
      "military_interference              0\n",
      "integrity_legal_system             0\n",
      "legal_enforcement_contracts        0\n",
      "restrictions_sale_real_property    0\n",
      "reliability_police                 0\n",
      "business_costs_crime               0\n",
      "gender_adjustment                  0\n",
      "property_rights                    0\n",
      "money_growth                       0\n",
      "std_inflation                      0\n",
      "inflation                          0\n",
      "freedom_own_foreign_currency       0\n",
      "sound_money                        0\n",
      "tariffs                            0\n",
      "regulatory_trade_barriers          0\n",
      "black_market                       0\n",
      "control_movement_capital_ppl       0\n",
      "trade                              0\n",
      "credit_market_reg                  0\n",
      "labor_market_reg                   0\n",
      "business_reg                       0\n",
      "regulation                         0\n",
      "freedom                            0\n",
      "dtype: int64\n"
     ]
    },
    {
     "data": {
      "text/html": [
       "<div>\n",
       "<style scoped>\n",
       "    .dataframe tbody tr th:only-of-type {\n",
       "        vertical-align: middle;\n",
       "    }\n",
       "\n",
       "    .dataframe tbody tr th {\n",
       "        vertical-align: top;\n",
       "    }\n",
       "\n",
       "    .dataframe thead th {\n",
       "        text-align: right;\n",
       "    }\n",
       "</style>\n",
       "<table border=\"1\" class=\"dataframe\">\n",
       "  <thead>\n",
       "    <tr style=\"text-align: right;\">\n",
       "      <th></th>\n",
       "      <th>government_consumption</th>\n",
       "      <th>transfers</th>\n",
       "      <th>gov_enterprises</th>\n",
       "      <th>top_marg_tax_rate</th>\n",
       "      <th>size_government</th>\n",
       "      <th>judicial_independence</th>\n",
       "      <th>impartial_courts</th>\n",
       "      <th>protection_property_rights</th>\n",
       "      <th>military_interference</th>\n",
       "      <th>integrity_legal_system</th>\n",
       "      <th>...</th>\n",
       "      <th>tariffs</th>\n",
       "      <th>regulatory_trade_barriers</th>\n",
       "      <th>black_market</th>\n",
       "      <th>control_movement_capital_ppl</th>\n",
       "      <th>trade</th>\n",
       "      <th>credit_market_reg</th>\n",
       "      <th>labor_market_reg</th>\n",
       "      <th>business_reg</th>\n",
       "      <th>regulation</th>\n",
       "      <th>freedom</th>\n",
       "    </tr>\n",
       "  </thead>\n",
       "  <tbody>\n",
       "    <tr>\n",
       "      <th>764</th>\n",
       "      <td>0.000000</td>\n",
       "      <td>8.584783</td>\n",
       "      <td>10.0</td>\n",
       "      <td>5.00000</td>\n",
       "      <td>5.896196</td>\n",
       "      <td>5.011383</td>\n",
       "      <td>3.525164</td>\n",
       "      <td>4.307329</td>\n",
       "      <td>6.500000</td>\n",
       "      <td>6.231000</td>\n",
       "      <td>...</td>\n",
       "      <td>7.498356</td>\n",
       "      <td>6.752429</td>\n",
       "      <td>10.0</td>\n",
       "      <td>2.432515</td>\n",
       "      <td>6.670825</td>\n",
       "      <td>7.988667</td>\n",
       "      <td>7.758627</td>\n",
       "      <td>4.855221</td>\n",
       "      <td>6.867505</td>\n",
       "      <td>not-freedom</td>\n",
       "    </tr>\n",
       "    <tr>\n",
       "      <th>278</th>\n",
       "      <td>4.844118</td>\n",
       "      <td>5.609294</td>\n",
       "      <td>7.0</td>\n",
       "      <td>5.50000</td>\n",
       "      <td>5.738353</td>\n",
       "      <td>4.588303</td>\n",
       "      <td>3.729140</td>\n",
       "      <td>5.387750</td>\n",
       "      <td>10.000000</td>\n",
       "      <td>7.500000</td>\n",
       "      <td>...</td>\n",
       "      <td>8.360400</td>\n",
       "      <td>7.948301</td>\n",
       "      <td>10.0</td>\n",
       "      <td>5.494242</td>\n",
       "      <td>7.950736</td>\n",
       "      <td>8.843333</td>\n",
       "      <td>7.727970</td>\n",
       "      <td>6.512236</td>\n",
       "      <td>7.694513</td>\n",
       "      <td>freedom</td>\n",
       "    </tr>\n",
       "    <tr>\n",
       "      <th>1538</th>\n",
       "      <td>5.552941</td>\n",
       "      <td>9.960490</td>\n",
       "      <td>2.0</td>\n",
       "      <td>6.37522</td>\n",
       "      <td>5.837811</td>\n",
       "      <td>3.256946</td>\n",
       "      <td>3.727413</td>\n",
       "      <td>5.762411</td>\n",
       "      <td>5.000000</td>\n",
       "      <td>5.833333</td>\n",
       "      <td>...</td>\n",
       "      <td>6.918692</td>\n",
       "      <td>4.676226</td>\n",
       "      <td>10.0</td>\n",
       "      <td>2.569951</td>\n",
       "      <td>6.041217</td>\n",
       "      <td>7.546693</td>\n",
       "      <td>5.840112</td>\n",
       "      <td>5.495340</td>\n",
       "      <td>6.294049</td>\n",
       "      <td>not-freedom</td>\n",
       "    </tr>\n",
       "    <tr>\n",
       "      <th>1780</th>\n",
       "      <td>1.167295</td>\n",
       "      <td>4.002725</td>\n",
       "      <td>8.0</td>\n",
       "      <td>1.50000</td>\n",
       "      <td>3.667505</td>\n",
       "      <td>8.108974</td>\n",
       "      <td>8.717949</td>\n",
       "      <td>8.707483</td>\n",
       "      <td>9.166667</td>\n",
       "      <td>10.000000</td>\n",
       "      <td>...</td>\n",
       "      <td>8.393422</td>\n",
       "      <td>8.709256</td>\n",
       "      <td>10.0</td>\n",
       "      <td>5.907099</td>\n",
       "      <td>8.252444</td>\n",
       "      <td>10.000000</td>\n",
       "      <td>5.061734</td>\n",
       "      <td>8.023171</td>\n",
       "      <td>7.694969</td>\n",
       "      <td>freedom</td>\n",
       "    </tr>\n",
       "    <tr>\n",
       "      <th>123</th>\n",
       "      <td>6.908824</td>\n",
       "      <td>9.459158</td>\n",
       "      <td>0.0</td>\n",
       "      <td>6.50000</td>\n",
       "      <td>5.716995</td>\n",
       "      <td>7.614717</td>\n",
       "      <td>7.012629</td>\n",
       "      <td>7.454309</td>\n",
       "      <td>6.100000</td>\n",
       "      <td>6.231000</td>\n",
       "      <td>...</td>\n",
       "      <td>7.049644</td>\n",
       "      <td>5.357441</td>\n",
       "      <td>10.0</td>\n",
       "      <td>5.653024</td>\n",
       "      <td>7.015027</td>\n",
       "      <td>7.739761</td>\n",
       "      <td>8.519242</td>\n",
       "      <td>8.230928</td>\n",
       "      <td>8.163310</td>\n",
       "      <td>freedom</td>\n",
       "    </tr>\n",
       "  </tbody>\n",
       "</table>\n",
       "<p>5 rows × 31 columns</p>\n",
       "</div>"
      ],
      "text/plain": [
       "      government_consumption  transfers  gov_enterprises  top_marg_tax_rate  \\\n",
       "764                 0.000000   8.584783             10.0            5.00000   \n",
       "278                 4.844118   5.609294              7.0            5.50000   \n",
       "1538                5.552941   9.960490              2.0            6.37522   \n",
       "1780                1.167295   4.002725              8.0            1.50000   \n",
       "123                 6.908824   9.459158              0.0            6.50000   \n",
       "\n",
       "      size_government  judicial_independence  impartial_courts  \\\n",
       "764          5.896196               5.011383          3.525164   \n",
       "278          5.738353               4.588303          3.729140   \n",
       "1538         5.837811               3.256946          3.727413   \n",
       "1780         3.667505               8.108974          8.717949   \n",
       "123          5.716995               7.614717          7.012629   \n",
       "\n",
       "      protection_property_rights  military_interference  \\\n",
       "764                     4.307329               6.500000   \n",
       "278                     5.387750              10.000000   \n",
       "1538                    5.762411               5.000000   \n",
       "1780                    8.707483               9.166667   \n",
       "123                     7.454309               6.100000   \n",
       "\n",
       "      integrity_legal_system  ...   tariffs  regulatory_trade_barriers  \\\n",
       "764                 6.231000  ...  7.498356                   6.752429   \n",
       "278                 7.500000  ...  8.360400                   7.948301   \n",
       "1538                5.833333  ...  6.918692                   4.676226   \n",
       "1780               10.000000  ...  8.393422                   8.709256   \n",
       "123                 6.231000  ...  7.049644                   5.357441   \n",
       "\n",
       "      black_market  control_movement_capital_ppl     trade  credit_market_reg  \\\n",
       "764           10.0                      2.432515  6.670825           7.988667   \n",
       "278           10.0                      5.494242  7.950736           8.843333   \n",
       "1538          10.0                      2.569951  6.041217           7.546693   \n",
       "1780          10.0                      5.907099  8.252444          10.000000   \n",
       "123           10.0                      5.653024  7.015027           7.739761   \n",
       "\n",
       "      labor_market_reg  business_reg  regulation      freedom  \n",
       "764           7.758627      4.855221    6.867505  not-freedom  \n",
       "278           7.727970      6.512236    7.694513      freedom  \n",
       "1538          5.840112      5.495340    6.294049  not-freedom  \n",
       "1780          5.061734      8.023171    7.694969      freedom  \n",
       "123           8.519242      8.230928    8.163310      freedom  \n",
       "\n",
       "[5 rows x 31 columns]"
      ]
     },
     "execution_count": 7,
     "metadata": {},
     "output_type": "execute_result"
    }
   ],
   "source": [
    "import pandas as pd\n",
    "from sklearn.utils import shuffle\n",
    "\n",
    "# 從CSV文件讀取數據到DataFrame\n",
    "df = pd.read_csv('economic_freedom_data.csv')\n",
    "\n",
    "# 打亂原始順序\n",
    "df = shuffle(df,random_state=10)\n",
    "\n",
    "# 進行前處理\n",
    "# 檢查遺漏值\n",
    "print(\"\\n每個欄位的遺漏值個數：\")\n",
    "print(df.isnull().sum())# 發現無遺漏值\n",
    "\n",
    "df.head()"
   ]
  },
  {
   "cell_type": "markdown",
   "id": "7e3902cf",
   "metadata": {},
   "source": [
    "## 第2題"
   ]
  },
  {
   "cell_type": "code",
   "execution_count": 8,
   "id": "d280af72",
   "metadata": {},
   "outputs": [
    {
     "name": "stdout",
     "output_type": "stream",
     "text": [
      "Average F1-score: 0.9675983424705306\n"
     ]
    }
   ],
   "source": [
    "from sklearn.ensemble import RandomForestClassifier\n",
    "from sklearn.model_selection import cross_val_score\n",
    "from sklearn.metrics import f1_score\n",
    "\n",
    "# 特徵欄位為features，目標欄位為target\n",
    "features = df.drop('freedom', axis=1)\n",
    "target = df['freedom']\n",
    "\n",
    "# 建立RandomForest分類器\n",
    "rf_classifier = RandomForestClassifier(random_state=10)\n",
    "rf_classifier.fit(features, target)\n",
    "\n",
    "# 進行10次交叉驗證並計算F1-score\n",
    "sl_rf_f1_scores = cross_val_score(rf_classifier, features, target, cv=10, scoring='f1_macro')\n",
    "\n",
    "# 計算平均分數\n",
    "sl_rf_average_f1_score = sl_rf_f1_scores.mean()\n",
    "\n",
    "# 印出平均分數\n",
    "print(\"Average F1-score:\", sl_rf_average_f1_score)"
   ]
  },
  {
   "cell_type": "markdown",
   "id": "cefd9b58",
   "metadata": {},
   "source": [
    "## 第3題"
   ]
  },
  {
   "cell_type": "code",
   "execution_count": 9,
   "id": "b914e788",
   "metadata": {},
   "outputs": [
    {
     "name": "stdout",
     "output_type": "stream",
     "text": [
      "Average F1-score: 0.9546165449005615\n"
     ]
    }
   ],
   "source": [
    "from sklearn.neural_network import MLPClassifier\n",
    "from sklearn.model_selection import cross_val_score\n",
    "from sklearn.metrics import f1_score\n",
    "\n",
    "# 特徵欄位為features，目標欄位為target\n",
    "features = df.drop('freedom', axis=1)\n",
    "target = df['freedom']\n",
    "\n",
    "# 建立MLP分類器\n",
    "mlp_classifier = MLPClassifier(hidden_layer_sizes=(64, 128), batch_size=8,random_state=10)\n",
    "mlp_classifier.fit(features, target)\n",
    "\n",
    "# 進行10次交叉驗證並計算F1-score\n",
    "sl_mlp_f1_scores = cross_val_score(mlp_classifier, features, target, cv=10, scoring='f1_macro')\n",
    "\n",
    "# 計算平均分數\n",
    "sl_mlp_average_f1_score = sl_mlp_f1_scores.mean()\n",
    "\n",
    "# 印出平均分數\n",
    "print(\"Average F1-score:\", sl_mlp_average_f1_score)"
   ]
  },
  {
   "cell_type": "code",
   "execution_count": 4,
   "id": "813dba97",
   "metadata": {
    "collapsed": true
   },
   "outputs": [
    {
     "name": "stdout",
     "output_type": "stream",
     "text": [
      "Requirement already satisfied: tensorflow in c:\\users\\harrisonlex\\anaconda3\\lib\\site-packages (2.12.0)\n",
      "Requirement already satisfied: tensorflow-intel==2.12.0 in c:\\users\\harrisonlex\\anaconda3\\lib\\site-packages (from tensorflow) (2.12.0)\n",
      "Requirement already satisfied: google-pasta>=0.1.1 in c:\\users\\harrisonlex\\anaconda3\\lib\\site-packages (from tensorflow-intel==2.12.0->tensorflow) (0.2.0)\n",
      "Requirement already satisfied: six>=1.12.0 in c:\\users\\harrisonlex\\anaconda3\\lib\\site-packages (from tensorflow-intel==2.12.0->tensorflow) (1.16.0)\n",
      "Requirement already satisfied: tensorflow-io-gcs-filesystem>=0.23.1 in c:\\users\\harrisonlex\\anaconda3\\lib\\site-packages (from tensorflow-intel==2.12.0->tensorflow) (0.31.0)\n",
      "Requirement already satisfied: flatbuffers>=2.0 in c:\\users\\harrisonlex\\anaconda3\\lib\\site-packages (from tensorflow-intel==2.12.0->tensorflow) (23.5.26)\n",
      "Requirement already satisfied: wrapt<1.15,>=1.11.0 in c:\\users\\harrisonlex\\anaconda3\\lib\\site-packages (from tensorflow-intel==2.12.0->tensorflow) (1.14.1)\n",
      "Requirement already satisfied: libclang>=13.0.0 in c:\\users\\harrisonlex\\anaconda3\\lib\\site-packages (from tensorflow-intel==2.12.0->tensorflow) (16.0.0)\n",
      "Requirement already satisfied: tensorboard<2.13,>=2.12 in c:\\users\\harrisonlex\\anaconda3\\lib\\site-packages (from tensorflow-intel==2.12.0->tensorflow) (2.12.3)\n",
      "Requirement already satisfied: protobuf!=4.21.0,!=4.21.1,!=4.21.2,!=4.21.3,!=4.21.4,!=4.21.5,<5.0.0dev,>=3.20.3 in c:\\users\\harrisonlex\\anaconda3\\lib\\site-packages (from tensorflow-intel==2.12.0->tensorflow) (4.23.2)\n",
      "Requirement already satisfied: numpy<1.24,>=1.22 in c:\\users\\harrisonlex\\anaconda3\\lib\\site-packages (from tensorflow-intel==2.12.0->tensorflow) (1.23.5)\n",
      "Requirement already satisfied: gast<=0.4.0,>=0.2.1 in c:\\users\\harrisonlex\\anaconda3\\lib\\site-packages (from tensorflow-intel==2.12.0->tensorflow) (0.4.0)\n",
      "Requirement already satisfied: packaging in c:\\users\\harrisonlex\\anaconda3\\lib\\site-packages (from tensorflow-intel==2.12.0->tensorflow) (21.3)\n",
      "Requirement already satisfied: opt-einsum>=2.3.2 in c:\\users\\harrisonlex\\anaconda3\\lib\\site-packages (from tensorflow-intel==2.12.0->tensorflow) (3.3.0)\n",
      "Requirement already satisfied: absl-py>=1.0.0 in c:\\users\\harrisonlex\\anaconda3\\lib\\site-packages (from tensorflow-intel==2.12.0->tensorflow) (1.4.0)\n",
      "Requirement already satisfied: grpcio<2.0,>=1.24.3 in c:\\users\\harrisonlex\\anaconda3\\lib\\site-packages (from tensorflow-intel==2.12.0->tensorflow) (1.54.2)\n",
      "Requirement already satisfied: astunparse>=1.6.0 in c:\\users\\harrisonlex\\anaconda3\\lib\\site-packages (from tensorflow-intel==2.12.0->tensorflow) (1.6.3)\n",
      "Requirement already satisfied: typing-extensions>=3.6.6 in c:\\users\\harrisonlex\\anaconda3\\lib\\site-packages (from tensorflow-intel==2.12.0->tensorflow) (4.3.0)\n",
      "Requirement already satisfied: keras<2.13,>=2.12.0 in c:\\users\\harrisonlex\\anaconda3\\lib\\site-packages (from tensorflow-intel==2.12.0->tensorflow) (2.12.0)\n",
      "Requirement already satisfied: termcolor>=1.1.0 in c:\\users\\harrisonlex\\anaconda3\\lib\\site-packages (from tensorflow-intel==2.12.0->tensorflow) (2.3.0)\n",
      "Requirement already satisfied: jax>=0.3.15 in c:\\users\\harrisonlex\\anaconda3\\lib\\site-packages (from tensorflow-intel==2.12.0->tensorflow) (0.4.10)\n",
      "Requirement already satisfied: setuptools in c:\\users\\harrisonlex\\anaconda3\\lib\\site-packages (from tensorflow-intel==2.12.0->tensorflow) (63.4.1)\n",
      "Requirement already satisfied: tensorflow-estimator<2.13,>=2.12.0 in c:\\users\\harrisonlex\\anaconda3\\lib\\site-packages (from tensorflow-intel==2.12.0->tensorflow) (2.12.0)\n",
      "Requirement already satisfied: h5py>=2.9.0 in c:\\users\\harrisonlex\\anaconda3\\lib\\site-packages (from tensorflow-intel==2.12.0->tensorflow) (3.7.0)\n",
      "Requirement already satisfied: wheel<1.0,>=0.23.0 in c:\\users\\harrisonlex\\anaconda3\\lib\\site-packages (from astunparse>=1.6.0->tensorflow-intel==2.12.0->tensorflow) (0.37.1)\n",
      "Requirement already satisfied: scipy>=1.7 in c:\\users\\harrisonlex\\anaconda3\\lib\\site-packages (from jax>=0.3.15->tensorflow-intel==2.12.0->tensorflow) (1.9.1)\n",
      "Requirement already satisfied: ml-dtypes>=0.1.0 in c:\\users\\harrisonlex\\anaconda3\\lib\\site-packages (from jax>=0.3.15->tensorflow-intel==2.12.0->tensorflow) (0.1.0)\n",
      "Requirement already satisfied: google-auth<3,>=1.6.3 in c:\\users\\harrisonlex\\anaconda3\\lib\\site-packages (from tensorboard<2.13,>=2.12->tensorflow-intel==2.12.0->tensorflow) (2.19.0)\n",
      "Requirement already satisfied: requests<3,>=2.21.0 in c:\\users\\harrisonlex\\anaconda3\\lib\\site-packages (from tensorboard<2.13,>=2.12->tensorflow-intel==2.12.0->tensorflow) (2.28.1)\n",
      "Requirement already satisfied: tensorboard-data-server<0.8.0,>=0.7.0 in c:\\users\\harrisonlex\\anaconda3\\lib\\site-packages (from tensorboard<2.13,>=2.12->tensorflow-intel==2.12.0->tensorflow) (0.7.0)\n",
      "Requirement already satisfied: google-auth-oauthlib<1.1,>=0.5 in c:\\users\\harrisonlex\\anaconda3\\lib\\site-packages (from tensorboard<2.13,>=2.12->tensorflow-intel==2.12.0->tensorflow) (1.0.0)\n",
      "Requirement already satisfied: markdown>=2.6.8 in c:\\users\\harrisonlex\\anaconda3\\lib\\site-packages (from tensorboard<2.13,>=2.12->tensorflow-intel==2.12.0->tensorflow) (3.3.4)\n",
      "Requirement already satisfied: werkzeug>=1.0.1 in c:\\users\\harrisonlex\\anaconda3\\lib\\site-packages (from tensorboard<2.13,>=2.12->tensorflow-intel==2.12.0->tensorflow) (2.0.3)\n",
      "Requirement already satisfied: pyparsing!=3.0.5,>=2.0.2 in c:\\users\\harrisonlex\\anaconda3\\lib\\site-packages (from packaging->tensorflow-intel==2.12.0->tensorflow) (3.0.9)\n",
      "Requirement already satisfied: rsa<5,>=3.1.4 in c:\\users\\harrisonlex\\anaconda3\\lib\\site-packages (from google-auth<3,>=1.6.3->tensorboard<2.13,>=2.12->tensorflow-intel==2.12.0->tensorflow) (4.9)\n",
      "Requirement already satisfied: cachetools<6.0,>=2.0.0 in c:\\users\\harrisonlex\\anaconda3\\lib\\site-packages (from google-auth<3,>=1.6.3->tensorboard<2.13,>=2.12->tensorflow-intel==2.12.0->tensorflow) (5.3.1)\n",
      "Requirement already satisfied: pyasn1-modules>=0.2.1 in c:\\users\\harrisonlex\\anaconda3\\lib\\site-packages (from google-auth<3,>=1.6.3->tensorboard<2.13,>=2.12->tensorflow-intel==2.12.0->tensorflow) (0.2.8)\n",
      "Requirement already satisfied: urllib3<2.0 in c:\\users\\harrisonlex\\anaconda3\\lib\\site-packages (from google-auth<3,>=1.6.3->tensorboard<2.13,>=2.12->tensorflow-intel==2.12.0->tensorflow) (1.26.11)\n",
      "Requirement already satisfied: requests-oauthlib>=0.7.0 in c:\\users\\harrisonlex\\anaconda3\\lib\\site-packages (from google-auth-oauthlib<1.1,>=0.5->tensorboard<2.13,>=2.12->tensorflow-intel==2.12.0->tensorflow) (1.3.1)\n",
      "Requirement already satisfied: certifi>=2017.4.17 in c:\\users\\harrisonlex\\anaconda3\\lib\\site-packages (from requests<3,>=2.21.0->tensorboard<2.13,>=2.12->tensorflow-intel==2.12.0->tensorflow) (2022.9.14)\n",
      "Requirement already satisfied: idna<4,>=2.5 in c:\\users\\harrisonlex\\anaconda3\\lib\\site-packages (from requests<3,>=2.21.0->tensorboard<2.13,>=2.12->tensorflow-intel==2.12.0->tensorflow) (3.3)\n",
      "Requirement already satisfied: charset-normalizer<3,>=2 in c:\\users\\harrisonlex\\anaconda3\\lib\\site-packages (from requests<3,>=2.21.0->tensorboard<2.13,>=2.12->tensorflow-intel==2.12.0->tensorflow) (2.0.4)\n",
      "Requirement already satisfied: pyasn1<0.5.0,>=0.4.6 in c:\\users\\harrisonlex\\anaconda3\\lib\\site-packages (from pyasn1-modules>=0.2.1->google-auth<3,>=1.6.3->tensorboard<2.13,>=2.12->tensorflow-intel==2.12.0->tensorflow) (0.4.8)\n",
      "Requirement already satisfied: oauthlib>=3.0.0 in c:\\users\\harrisonlex\\anaconda3\\lib\\site-packages (from requests-oauthlib>=0.7.0->google-auth-oauthlib<1.1,>=0.5->tensorboard<2.13,>=2.12->tensorflow-intel==2.12.0->tensorflow) (3.2.2)\n",
      "Note: you may need to restart the kernel to use updated packages.\n"
     ]
    }
   ],
   "source": [
    "pip install tensorflow"
   ]
  },
  {
   "cell_type": "code",
   "execution_count": 18,
   "id": "18a981b3",
   "metadata": {
    "collapsed": true
   },
   "outputs": [
    {
     "name": "stdout",
     "output_type": "stream",
     "text": [
      "Collecting scikeras\n",
      "  Downloading scikeras-0.10.0-py3-none-any.whl (27 kB)\n",
      "Requirement already satisfied: packaging>=0.21 in c:\\users\\harrisonlex\\anaconda3\\lib\\site-packages (from scikeras) (21.3)\n",
      "Requirement already satisfied: scikit-learn>=1.0.0 in c:\\users\\harrisonlex\\anaconda3\\lib\\site-packages (from scikeras) (1.0.2)\n",
      "Requirement already satisfied: pyparsing!=3.0.5,>=2.0.2 in c:\\users\\harrisonlex\\anaconda3\\lib\\site-packages (from packaging>=0.21->scikeras) (3.0.9)\n",
      "Requirement already satisfied: scipy>=1.1.0 in c:\\users\\harrisonlex\\anaconda3\\lib\\site-packages (from scikit-learn>=1.0.0->scikeras) (1.9.1)\n",
      "Requirement already satisfied: numpy>=1.14.6 in c:\\users\\harrisonlex\\anaconda3\\lib\\site-packages (from scikit-learn>=1.0.0->scikeras) (1.23.5)\n",
      "Requirement already satisfied: joblib>=0.11 in c:\\users\\harrisonlex\\anaconda3\\lib\\site-packages (from scikit-learn>=1.0.0->scikeras) (1.1.0)\n",
      "Requirement already satisfied: threadpoolctl>=2.0.0 in c:\\users\\harrisonlex\\anaconda3\\lib\\site-packages (from scikit-learn>=1.0.0->scikeras) (2.2.0)\n",
      "Installing collected packages: scikeras\n",
      "Successfully installed scikeras-0.10.0\n",
      "Note: you may need to restart the kernel to use updated packages.\n"
     ]
    }
   ],
   "source": [
    "pip install scikeras"
   ]
  },
  {
   "cell_type": "markdown",
   "id": "41a545f1",
   "metadata": {},
   "source": [
    "## 第4題"
   ]
  },
  {
   "cell_type": "code",
   "execution_count": 10,
   "id": "38df934b",
   "metadata": {
    "scrolled": true
   },
   "outputs": [
    {
     "name": "stderr",
     "output_type": "stream",
     "text": [
      "C:\\Users\\harrisonlex\\AppData\\Local\\Temp\\ipykernel_30420\\2374716753.py:24: DeprecationWarning: KerasClassifier is deprecated, use Sci-Keras (https://github.com/adriangb/scikeras) instead. See https://www.adriangb.com/scikeras/stable/migration.html for help migrating.\n",
      "  estimator = KerasClassifier(build_fn=create_model, epochs=30, batch_size=8, verbose=0)\n"
     ]
    },
    {
     "name": "stdout",
     "output_type": "stream",
     "text": [
      "6/6 [==============================] - 0s 600us/step\n",
      "6/6 [==============================] - 0s 600us/step\n",
      "6/6 [==============================] - 0s 800us/step\n",
      "6/6 [==============================] - 0s 600us/step\n",
      "6/6 [==============================] - 0s 800us/step\n",
      "6/6 [==============================] - 0s 600us/step\n",
      "6/6 [==============================] - 0s 600us/step\n",
      "6/6 [==============================] - 0s 800us/step\n",
      "6/6 [==============================] - 0s 800us/step\n",
      "6/6 [==============================] - 0s 800us/step\n",
      "Average F1-score: 0.9603483631017424\n"
     ]
    }
   ],
   "source": [
    "import tensorflow as tf\n",
    "from sklearn.model_selection import StratifiedKFold\n",
    "from sklearn.metrics import f1_score\n",
    "from keras.models import Sequential\n",
    "from keras.layers import Dense\n",
    "from keras.wrappers.scikit_learn import KerasClassifier\n",
    "#from scikeras.wrappers import KerasClassifier\n",
    "import numpy as np\n",
    "\n",
    "# 特徵欄位為features，目標欄位為target\n",
    "features = df.drop('freedom', axis=1)\n",
    "target = df['freedom']\n",
    "\n",
    "# 定義建立Keras模型的函式\n",
    "def create_model():\n",
    "    model = Sequential()\n",
    "    model.add(Dense(64, activation='relu', input_dim=features.shape[1]))\n",
    "    model.add(Dense(128, activation='relu'))\n",
    "    model.add(Dense(1, activation='sigmoid'))\n",
    "    model.compile(optimizer='adam', loss='binary_crossentropy', metrics=['accuracy'])\n",
    "    return model\n",
    "\n",
    "# 將Keras模型封裝成scikit-learn的推定器形式\n",
    "estimator = KerasClassifier(build_fn=create_model, epochs=30, batch_size=8, verbose=0)\n",
    "estimator.fit(features, target)\n",
    "\n",
    "# 使用StratifiedKFold做為交叉驗證的方法\n",
    "kfold = StratifiedKFold(n_splits=10, shuffle=True, random_state=10)\n",
    "\n",
    "# 進行交叉驗證並計算F1-score\n",
    "kr_mlp_f1_scores = cross_val_score(estimator, features, target, cv=kfold, scoring='f1_macro')\n",
    "\n",
    "# 計算平均分數\n",
    "kr_mlp_average_f1_score = np.mean(kr_mlp_f1_scores)\n",
    "print(\"Average F1-score:\", kr_mlp_average_f1_score)"
   ]
  },
  {
   "cell_type": "markdown",
   "id": "9fc0808c",
   "metadata": {},
   "source": [
    "## 第5題"
   ]
  },
  {
   "cell_type": "markdown",
   "id": "7e97ebd1",
   "metadata": {},
   "source": [
    "以上3題皆是以兩者平均作為F1-score的依據，因為都是設為scoring='f1_macro'"
   ]
  },
  {
   "cell_type": "markdown",
   "id": "ba356192",
   "metadata": {},
   "source": [
    "## 第6題"
   ]
  },
  {
   "cell_type": "code",
   "execution_count": 12,
   "id": "09e3f5c7",
   "metadata": {},
   "outputs": [
    {
     "name": "stdout",
     "output_type": "stream",
     "text": [
      "scikit-learn的RandomForest v.s. scikit-learn的MLP\n",
      "t-value: 2.00312462194545\n",
      "p-value: 0.06045703889742101\n",
      "\n",
      "scikit-learn的RandomForest v.s. keras的MLP\n",
      "t-value: 1.3580019610829492\n",
      "p-value: 0.1912432035491307\n",
      "\n",
      "scikit-learn的MLP v.s. keras的MLP\n",
      "t-value: -0.9897027438982892\n",
      "p-value: 0.3354378979117034\n"
     ]
    }
   ],
   "source": [
    "import numpy as np\n",
    "from scipy import stats\n",
    "from scipy.stats import ttest_ind\n",
    "\n",
    "# 計算t-value和p-value\n",
    "t_value1, p_value1 = ttest_ind(sl_rf_f1_scores,sl_mlp_f1_scores)\n",
    "t_value2, p_value2 = ttest_ind(sl_rf_f1_scores, kr_mlp_f1_scores)\n",
    "t_value3, p_value3 = ttest_ind(sl_mlp_f1_scores,kr_mlp_f1_scores)\n",
    " \n",
    "print(\"scikit-learn的RandomForest v.s. scikit-learn的MLP\")\n",
    "print(\"t-value:\", t_value1)\n",
    "print(\"p-value:\", p_value1)\n",
    "print()\n",
    "print(\"scikit-learn的RandomForest v.s. keras的MLP\")\n",
    "print(\"t-value:\", t_value2)\n",
    "print(\"p-value:\", p_value2)\n",
    "print()\n",
    "print(\"scikit-learn的MLP v.s. keras的MLP\")\n",
    "print(\"t-value:\", t_value3)\n",
    "print(\"p-value:\", p_value3)"
   ]
  },
  {
   "cell_type": "markdown",
   "id": "e5a42f6c",
   "metadata": {},
   "source": [
    "### 結論"
   ]
  },
  {
   "cell_type": "markdown",
   "id": "64800674",
   "metadata": {},
   "source": [
    "將顯著水準設置為0.05:\n",
    "以上三個模型兩兩比較的p-value都是大於0.05的，所以可以得到結論是此次實驗中三個模型相互間的表現比較都不存在明顯差異"
   ]
  },
  {
   "cell_type": "markdown",
   "id": "114f68f9",
   "metadata": {},
   "source": [
    "## 第7題"
   ]
  },
  {
   "cell_type": "code",
   "execution_count": 13,
   "id": "72987fa5",
   "metadata": {},
   "outputs": [
    {
     "name": "stdout",
     "output_type": "stream",
     "text": [
      "1/1 [==============================] - 0s 35ms/step\n",
      "scikit-learn的RandomForest預測:  ['not-freedom']\n",
      "scikit-learn的MLP預測:  ['not-freedom']\n",
      "keras的MLP預測:  [['not-freedom']]\n"
     ]
    }
   ],
   "source": [
    "# 導入newdata\n",
    "new_data = pd.read_csv(\"newdata.csv\")\n",
    "\n",
    "rf_predict = rf_classifier.predict(new_data)\n",
    "sl_mlp_predict = mlp_classifier.predict(new_data)\n",
    "kr_mlp_predict = estimator.predict(new_data)\n",
    "print(\"scikit-learn的RandomForest預測: \",rf_predict)\n",
    "print(\"scikit-learn的MLP預測: \",sl_mlp_predict)\n",
    "print(\"keras的MLP預測: \",kr_mlp_predict)"
   ]
  },
  {
   "cell_type": "markdown",
   "id": "c6c7a58c",
   "metadata": {},
   "source": [
    "結果-用三個模型預測結果都是not-freedom"
   ]
  },
  {
   "cell_type": "markdown",
   "id": "0c2c8eb1",
   "metadata": {},
   "source": [
    "## 第8題"
   ]
  },
  {
   "cell_type": "code",
   "execution_count": 15,
   "id": "da0566cb",
   "metadata": {},
   "outputs": [
    {
     "name": "stdout",
     "output_type": "stream",
     "text": [
      "最重要的屬性: trade, Importance:0.15858059977664826\n",
      "\n",
      "屬性重要性排序:\n",
      " trade                               0.15858059977664826\n",
      " sound_money                         0.15730887387114237\n",
      " freedom_own_foreign_currency        0.10042074184640819\n",
      " control_movement_capital_ppl        0.07065168020085259\n",
      " regulation                          0.05575997659138414\n",
      " property_rights                     0.05148322972661163\n",
      " business_reg                        0.04795694391491417\n",
      " regulatory_trade_barriers           0.04090180263937907\n",
      " size_government                     0.03733497260839916\n",
      " tariffs                             0.03531461686812836\n",
      " military_interference               0.0348529231297113\n",
      " protection_property_rights          0.0202452657028774\n",
      " labor_market_reg                    0.017625051682671207\n",
      " reliability_police                  0.0160885320291397\n",
      " impartial_courts                    0.015305872741631777\n",
      " std_inflation                       0.01491184201103592\n",
      " gov_enterprises                     0.014167608971748916\n",
      " credit_market_reg                   0.01262638291851291\n",
      " restrictions_sale_real_property     0.012163336383039382\n",
      " judicial_independence               0.01201115313272048\n",
      " government_consumption              0.011457188836733157\n",
      " legal_enforcement_contracts         0.009508380871884606\n",
      " business_costs_crime                0.009413900610614024\n",
      " transfers                           0.009325378661181521\n",
      " top_marg_tax_rate                   0.009197247873345703\n",
      " gender_adjustment                   0.007602846142140444\n",
      " money_growth                        0.0068133153768624435\n",
      " integrity_legal_system              0.005574060988605859\n",
      " inflation                           0.004924479691322646\n",
      " black_market                        0.00047179420035258217\n"
     ]
    }
   ],
   "source": [
    "# 獲取特徵的重要性分數\n",
    "importances = rf_classifier.feature_importances_\n",
    "\n",
    "# 建立特徵與重要性分數的對應字典\n",
    "feature_importance_dict = dict(zip(features.columns, importances))\n",
    "\n",
    "# 根據重要性分數排序，由高到低\n",
    "sorted_feature_importances = sorted(feature_importance_dict.items(), key=lambda x: x[1], reverse=True)\n",
    "\n",
    "# 獲取最重要的特徵及其重要性分數\n",
    "most_important_feature, highest_importance = sorted_feature_importances[0]\n",
    "\n",
    "# 印出最重要的特徵及其重要性分數\n",
    "print(f\"最重要的屬性: {most_important_feature}, Importance:{highest_importance}\")\n",
    "\n",
    "print()\n",
    "\n",
    "# 印出特徵的重要性排序\n",
    "print(\"屬性重要性排序:\")\n",
    "for feature, importance in sorted_feature_importances:\n",
    "    print(f\" {feature:35} {importance}\")"
   ]
  }
 ],
 "metadata": {
  "kernelspec": {
   "display_name": "Python 3 (ipykernel)",
   "language": "python",
   "name": "python3"
  },
  "language_info": {
   "codemirror_mode": {
    "name": "ipython",
    "version": 3
   },
   "file_extension": ".py",
   "mimetype": "text/x-python",
   "name": "python",
   "nbconvert_exporter": "python",
   "pygments_lexer": "ipython3",
   "version": "3.9.13"
  }
 },
 "nbformat": 4,
 "nbformat_minor": 5
}
