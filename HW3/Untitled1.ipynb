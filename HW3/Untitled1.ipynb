{
 "cells": [
  {
   "cell_type": "code",
   "execution_count": 15,
   "id": "5117c1cf",
   "metadata": {},
   "outputs": [],
   "source": [
    "import pandas as pd\n",
    "from sklearn.preprocessing import StandardScaler, OneHotEncoder"
   ]
  },
  {
   "cell_type": "code",
   "execution_count": 16,
   "id": "6f478610",
   "metadata": {},
   "outputs": [],
   "source": [
    "# 載入資料集\n",
    "data = pd.read_csv('insurance.csv')"
   ]
  },
  {
   "cell_type": "code",
   "execution_count": 17,
   "id": "87e54334",
   "metadata": {},
   "outputs": [
    {
     "name": "stdout",
     "output_type": "stream",
     "text": [
      "age         0\n",
      "sex         0\n",
      "bmi         0\n",
      "children    0\n",
      "smoker      0\n",
      "region      0\n",
      "charges     0\n",
      "dtype: int64\n",
      "               age          bmi     children       charges\n",
      "count  1338.000000  1338.000000  1338.000000   1338.000000\n",
      "mean     39.207025    30.663397     1.094918  13270.422265\n",
      "std      14.049960     6.098187     1.205493  12110.011237\n",
      "min      18.000000    15.960000     0.000000   1121.873900\n",
      "25%      27.000000    26.296250     0.000000   4740.287150\n",
      "50%      39.000000    30.400000     1.000000   9382.033000\n",
      "75%      51.000000    34.693750     2.000000  16639.912515\n",
      "max      64.000000    53.130000     5.000000  63770.428010\n"
     ]
    }
   ],
   "source": [
    "# 檢查是否有缺失值或異常值\n",
    "print(data.isnull().sum()) # 檢查是否有缺失值\n",
    "print(data.describe()) # 檢查是否有異常值"
   ]
  },
  {
   "cell_type": "code",
   "execution_count": 19,
   "id": "3d7afaea",
   "metadata": {},
   "outputs": [],
   "source": [
    "# 將類別型特徵轉換為二元變量\n",
    "data['sex'] = pd.get_dummies(data['sex'], drop_first=True)\n",
    "data['smoker'] = pd.get_dummies(data['smoker'], drop_first=True)\n",
    "\n",
    "# 將居住區域特徵進行編碼\n",
    "encoder = OneHotEncoder()\n",
    "region_encoded = encoder.fit_transform(data['region'].values.reshape(-1, 1))\n",
    "region_encoded_df = pd.DataFrame(region_encoded.toarray(), columns=encoder.get_feature_names_out(['region']))\n",
    "data = pd.concat([data, region_encoded_df], axis=1)\n",
    "\n",
    "# 將年紀轉換為出生年份\n",
    "data['birth_year'] = 2023 - data['age']\n",
    "\n",
    "# 將BMI進行標準化處理\n",
    "scaler = StandardScaler()\n",
    "data['bmi'] = scaler.fit_transform(data[['bmi']])\n",
    "\n",
    "# 選擇特徵並切分資料集\n",
    "X = data[['sex', 'bmi', 'children', 'smoker', 'region_northeast', 'region_northwest', 'region_southeast', 'region_southwest', 'birth_year']]\n",
    "y = data['charges']"
   ]
  },
  {
   "cell_type": "code",
   "execution_count": 20,
   "id": "99ef6176",
   "metadata": {},
   "outputs": [],
   "source": [
    "from sklearn.model_selection import train_test_split\n",
    "\n",
    "X_train, X_test, y_train, y_test = train_test_split(X, y, test_size=0.2, random_state=42)"
   ]
  },
  {
   "cell_type": "code",
   "execution_count": 21,
   "id": "0108a2b3",
   "metadata": {},
   "outputs": [
    {
     "name": "stdout",
     "output_type": "stream",
     "text": [
      "Linear Regression 模型的 MSE 為： 33596915.85136145\n",
      "Linear Regression 模型的 R2 score 為： 0.7835929767120724\n"
     ]
    }
   ],
   "source": [
    "##Linear Regression 模型：\n",
    "\n",
    "\n",
    "\n",
    "from sklearn.linear_model import LinearRegression\n",
    "from sklearn.metrics import mean_squared_error, r2_score\n",
    "\n",
    "# 建立 Linear Regression 模型\n",
    "lr_model = LinearRegression()\n",
    "\n",
    "# 訓練模型\n",
    "lr_model.fit(X_train, y_train)\n",
    "\n",
    "# 預測測試集\n",
    "lr_y_pred = lr_model.predict(X_test)\n",
    "\n",
    "# 計算模型評估指標\n",
    "lr_mse = mean_squared_error(y_test, lr_y_pred)\n",
    "lr_r2 = r2_score(y_test, lr_y_pred)\n",
    "\n",
    "print(\"Linear Regression 模型的 MSE 為：\", lr_mse)\n",
    "print(\"Linear Regression 模型的 R2 score 為：\", lr_r2)"
   ]
  },
  {
   "cell_type": "code",
   "execution_count": 22,
   "id": "21e51167",
   "metadata": {},
   "outputs": [
    {
     "name": "stdout",
     "output_type": "stream",
     "text": [
      "SVM (SVR) 模型的 MSE 為： 166061861.6390888\n",
      "SVM (SVR) 模型的 R2 score 為： -0.06965036070448227\n"
     ]
    }
   ],
   "source": [
    "##SVM (SVR) 模型\n",
    "\n",
    "from sklearn.svm import SVR\n",
    "from sklearn.metrics import mean_squared_error, r2_score\n",
    "\n",
    "# 建立 SVM (SVR) 模型\n",
    "svm_model = SVR(kernel='linear')\n",
    "\n",
    "# 訓練模型\n",
    "svm_model.fit(X_train, y_train)\n",
    "\n",
    "# 預測測試集\n",
    "svm_y_pred = svm_model.predict(X_test)\n",
    "\n",
    "# 計算模型評估指標\n",
    "svm_mse = mean_squared_error(y_test, svm_y_pred)\n",
    "svm_r2 = r2_score(y_test, svm_y_pred)\n",
    "\n",
    "print(\"SVM (SVR) 模型的 MSE 為：\", svm_mse)\n",
    "print(\"SVM (SVR) 模型的 R2 score 為：\", svm_r2)"
   ]
  },
  {
   "cell_type": "code",
   "execution_count": 23,
   "id": "d1e5f79b",
   "metadata": {},
   "outputs": [
    {
     "name": "stdout",
     "output_type": "stream",
     "text": [
      "Decision Tree 模型的 MSE 為： 42187803.87714855\n",
      "Decision Tree 模型的 R2 score 為： 0.7282566918790956\n"
     ]
    }
   ],
   "source": [
    "##Decision Tree 模型：\n",
    "\n",
    "from sklearn.tree import DecisionTreeRegressor\n",
    "from sklearn.metrics import mean_squared_error, r2_score\n",
    "\n",
    "# 建立 Decision Tree 模型\n",
    "dt_model = DecisionTreeRegressor(random_state=42)\n",
    "\n",
    "# 訓練模型\n",
    "dt_model.fit(X_train, y_train)\n",
    "\n",
    "# 預測測試集\n",
    "dt_y_pred = dt_model.predict(X_test)\n",
    "\n",
    "# 計算模型評估指標\n",
    "dt_mse = mean_squared_error(y_test, dt_y_pred)\n",
    "dt_r2 = r2_score(y_test, dt_y_pred)\n",
    "\n",
    "print(\"Decision Tree 模型的 MSE 為：\", dt_mse)\n",
    "print(\"Decision Tree 模型的 R2 score 為：\", dt_r2)"
   ]
  },
  {
   "cell_type": "code",
   "execution_count": null,
   "id": "88594b73",
   "metadata": {},
   "outputs": [],
   "source": [
    "from sklearn.metrics import r2_score, mean_squared_error, mean_absolute_error\n",
    "\n"
   ]
  }
 ],
 "metadata": {
  "kernelspec": {
   "display_name": "Python 3 (ipykernel)",
   "language": "python",
   "name": "python3"
  },
  "language_info": {
   "codemirror_mode": {
    "name": "ipython",
    "version": 3
   },
   "file_extension": ".py",
   "mimetype": "text/x-python",
   "name": "python",
   "nbconvert_exporter": "python",
   "pygments_lexer": "ipython3",
   "version": "3.9.13"
  }
 },
 "nbformat": 4,
 "nbformat_minor": 5
}
