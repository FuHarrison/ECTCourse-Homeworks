{
 "cells": [
  {
   "cell_type": "code",
   "execution_count": 13,
   "id": "9b29aaa4",
   "metadata": {},
   "outputs": [],
   "source": [
    "import pandas as pd\n",
    "\n",
    "# 讀取資料集\n",
    "df = pd.read_csv(\"customer_churn.csv\")"
   ]
  },
  {
   "cell_type": "code",
   "execution_count": 14,
   "id": "ec767a47",
   "metadata": {},
   "outputs": [
    {
     "name": "stdout",
     "output_type": "stream",
     "text": [
      "剩餘資料筆數： 3078\n"
     ]
    }
   ],
   "source": [
    "# 刪除重覆資料，僅保留一筆\n",
    "df.drop_duplicates(subset=['CustomerID'], keep='first', inplace=True)\n",
    "\n",
    "# 顯示剩餘資料筆數\n",
    "print(\"剩餘資料筆數：\", len(df))"
   ]
  },
  {
   "cell_type": "code",
   "execution_count": 15,
   "id": "549ab3bc",
   "metadata": {},
   "outputs": [],
   "source": [
    "\n",
    "from sklearn.model_selection import train_test_split\n",
    "# 填補空值，使用平均數填補\n",
    "df['Tenure'].fillna(df['Tenure'].mean(), inplace=True)\n",
    "df['WarehouseToHome'].fillna(df['WarehouseToHome'].mean(), inplace=True)\n",
    "df['HourSpendOnApp'].fillna(df['HourSpendOnApp'].mean(), inplace=True)\n",
    "df['OrderAmountHikeFromlastYear'].fillna(df['OrderAmountHikeFromlastYear'].mean(), inplace=True)\n",
    "df['CouponUsed'].fillna(df['CouponUsed'].mean(), inplace=True)\n",
    "df['OrderCount'].fillna(df['OrderCount'].mean(), inplace=True)\n",
    "df['DaySinceLastOrder'].fillna(df['DaySinceLastOrder'].mean(), inplace=True)\n",
    "\n",
    "from sklearn.preprocessing import LabelEncoder\n",
    "\n",
    "# One-Hot Encoding\n",
    "#df = pd.get_dummies(df, columns=['PreferredLoginDevice','PreferredPaymentMode','Gender','PreferedOrderCat','MaritalStatus'])\n",
    "# 特徵編碼，使用標籤編碼\n",
    "le = LabelEncoder()\n",
    "df['PreferredLoginDevice'] = le.fit_transform(df['PreferredLoginDevice'])\n",
    "df['PreferredPaymentMode'] = le.fit_transform(df['PreferredPaymentMode'])\n",
    "df['Gender'] = le.fit_transform(df['Gender'])\n",
    "df['PreferedOrderCat'] = le.fit_transform(df['PreferedOrderCat'])\n",
    "df['MaritalStatus'] = le.fit_transform(df['MaritalStatus'])\n",
    "\n",
    "df['Churn'] = df['Churn'].astype('category')\n",
    "\n",
    "# 切分特徵和目標變數\n",
    "X = df.drop(['CustomerID', 'Churn'], axis=1)\n",
    "y = df['Churn']\n",
    "\n",
    "# 切分為訓練集和測試集\n",
    "X_train, X_test, y_train, y_test = train_test_split(X, y, test_size=0.3, random_state=42)"
   ]
  },
  {
   "cell_type": "code",
   "execution_count": 16,
   "id": "6cde6267",
   "metadata": {},
   "outputs": [
    {
     "name": "stdout",
     "output_type": "stream",
     "text": [
      "SVM训练集准确率： 0.6963788300835655\n",
      "SVM测试集准确率： 0.685064935064935\n",
      "逻辑回归训练集准确率： 0.8314763231197771\n",
      "逻辑回归测试集准确率： 0.816017316017316\n",
      "决策树训练集准确率： 1.0\n",
      "决策树测试集准确率： 0.895021645021645\n"
     ]
    },
    {
     "name": "stderr",
     "output_type": "stream",
     "text": [
      "C:\\Users\\harrisonlex\\Anaconda3\\lib\\site-packages\\sklearn\\linear_model\\_logistic.py:814: ConvergenceWarning: lbfgs failed to converge (status=1):\n",
      "STOP: TOTAL NO. of ITERATIONS REACHED LIMIT.\n",
      "\n",
      "Increase the number of iterations (max_iter) or scale the data as shown in:\n",
      "    https://scikit-learn.org/stable/modules/preprocessing.html\n",
      "Please also refer to the documentation for alternative solver options:\n",
      "    https://scikit-learn.org/stable/modules/linear_model.html#logistic-regression\n",
      "  n_iter_i = _check_optimize_result(\n"
     ]
    }
   ],
   "source": [
    "from sklearn.svm import SVC\n",
    "from sklearn.linear_model import LogisticRegression\n",
    "from sklearn.tree import DecisionTreeClassifier\n",
    "from sklearn.metrics import accuracy_score\n",
    "\n",
    "# 训练SVM模型\n",
    "svm = SVC()\n",
    "svm.fit(X_train, y_train)\n",
    "y_pred_train = svm.predict(X_train)\n",
    "y_pred_test = svm.predict(X_test)\n",
    "print('SVM训练集准确率：', accuracy_score(y_train, y_pred_train))\n",
    "print('SVM测试集准确率：', accuracy_score(y_test, y_pred_test))\n",
    "\n",
    "# 训练逻辑回归模型\n",
    "lr = LogisticRegression()\n",
    "lr.fit(X_train, y_train)\n",
    "y_pred_train = lr.predict(X_train)\n",
    "y_pred_test = lr.predict(X_test)\n",
    "print('逻辑回归训练集准确率：', accuracy_score(y_train, y_pred_train))\n",
    "print('逻辑回归测试集准确率：', accuracy_score(y_test, y_pred_test))\n",
    "\n",
    "# 训练决策树模型\n",
    "dt = DecisionTreeClassifier()\n",
    "dt.fit(X_train, y_train)\n",
    "y_pred_train = dt.predict(X_train)\n",
    "y_pred_test = dt.predict(X_test)\n",
    "print('决策树训练集准确率：', accuracy_score(y_train, y_pred_train))\n",
    "print('决策树测试集准确率：', accuracy_score(y_test, y_pred_test))"
   ]
  },
  {
   "cell_type": "code",
   "execution_count": 5,
   "id": "f4976b7f",
   "metadata": {},
   "outputs": [],
   "source": []
  },
  {
   "cell_type": "code",
   "execution_count": null,
   "id": "e845e0be",
   "metadata": {},
   "outputs": [],
   "source": []
  }
 ],
 "metadata": {
  "kernelspec": {
   "display_name": "Python 3 (ipykernel)",
   "language": "python",
   "name": "python3"
  },
  "language_info": {
   "codemirror_mode": {
    "name": "ipython",
    "version": 3
   },
   "file_extension": ".py",
   "mimetype": "text/x-python",
   "name": "python",
   "nbconvert_exporter": "python",
   "pygments_lexer": "ipython3",
   "version": "3.9.13"
  }
 },
 "nbformat": 4,
 "nbformat_minor": 5
}
