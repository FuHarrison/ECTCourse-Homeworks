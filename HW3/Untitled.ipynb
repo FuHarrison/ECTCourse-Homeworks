{
 "cells": [
  {
   "cell_type": "code",
   "execution_count": 3,
   "id": "8c70fb7d",
   "metadata": {},
   "outputs": [],
   "source": [
    "import pandas as pd"
   ]
  },
  {
   "cell_type": "code",
   "execution_count": 4,
   "id": "3d5dfcd7",
   "metadata": {},
   "outputs": [],
   "source": [
    "df = pd.read_csv('insurance.csv')"
   ]
  },
  {
   "cell_type": "code",
   "execution_count": 5,
   "id": "5774cd33",
   "metadata": {},
   "outputs": [
    {
     "data": {
      "text/plain": [
       "age\n",
       "18    69\n",
       "19    68\n",
       "20    29\n",
       "21    28\n",
       "22    28\n",
       "23    28\n",
       "24    28\n",
       "25    28\n",
       "26    28\n",
       "27    28\n",
       "28    28\n",
       "29    27\n",
       "30    27\n",
       "31    27\n",
       "32    26\n",
       "33    26\n",
       "34    26\n",
       "35    25\n",
       "36    25\n",
       "37    25\n",
       "38    25\n",
       "39    25\n",
       "40    27\n",
       "41    27\n",
       "42    27\n",
       "43    27\n",
       "44    27\n",
       "45    29\n",
       "46    29\n",
       "47    29\n",
       "48    29\n",
       "49    28\n",
       "50    29\n",
       "51    29\n",
       "52    29\n",
       "53    28\n",
       "54    28\n",
       "55    26\n",
       "56    26\n",
       "57    26\n",
       "58    25\n",
       "59    25\n",
       "60    23\n",
       "61    23\n",
       "62    23\n",
       "63    23\n",
       "64    22\n",
       "dtype: int64"
      ]
     },
     "execution_count": 5,
     "metadata": {},
     "output_type": "execute_result"
    }
   ],
   "source": [
    "df.groupby(['age']).size()"
   ]
  },
  {
   "cell_type": "code",
   "execution_count": 6,
   "id": "aa3bcc01",
   "metadata": {},
   "outputs": [
    {
     "data": {
      "text/plain": [
       "sex\n",
       "female    662\n",
       "male      676\n",
       "dtype: int64"
      ]
     },
     "execution_count": 6,
     "metadata": {},
     "output_type": "execute_result"
    }
   ],
   "source": [
    "df.groupby(['sex']).size()"
   ]
  },
  {
   "cell_type": "code",
   "execution_count": 7,
   "id": "94d32a2b",
   "metadata": {},
   "outputs": [
    {
     "data": {
      "text/plain": [
       "bmi\n",
       "15.960    1\n",
       "16.815    2\n",
       "17.195    1\n",
       "17.290    3\n",
       "17.385    1\n",
       "         ..\n",
       "48.070    1\n",
       "49.060    1\n",
       "50.380    1\n",
       "52.580    1\n",
       "53.130    1\n",
       "Length: 548, dtype: int64"
      ]
     },
     "execution_count": 7,
     "metadata": {},
     "output_type": "execute_result"
    }
   ],
   "source": [
    "df.groupby(['bmi']).size()"
   ]
  },
  {
   "cell_type": "code",
   "execution_count": 8,
   "id": "b65b97c6",
   "metadata": {},
   "outputs": [
    {
     "data": {
      "text/plain": [
       "children\n",
       "0    574\n",
       "1    324\n",
       "2    240\n",
       "3    157\n",
       "4     25\n",
       "5     18\n",
       "dtype: int64"
      ]
     },
     "execution_count": 8,
     "metadata": {},
     "output_type": "execute_result"
    }
   ],
   "source": [
    "df.groupby(['children']).size()"
   ]
  },
  {
   "cell_type": "code",
   "execution_count": 9,
   "id": "a731469c",
   "metadata": {},
   "outputs": [
    {
     "data": {
      "text/plain": [
       "smoker\n",
       "no     1064\n",
       "yes     274\n",
       "dtype: int64"
      ]
     },
     "execution_count": 9,
     "metadata": {},
     "output_type": "execute_result"
    }
   ],
   "source": [
    "df.groupby(['smoker']).size()"
   ]
  },
  {
   "cell_type": "code",
   "execution_count": 10,
   "id": "94769c7e",
   "metadata": {},
   "outputs": [
    {
     "data": {
      "text/plain": [
       "region\n",
       "northeast    324\n",
       "northwest    325\n",
       "southeast    364\n",
       "southwest    325\n",
       "dtype: int64"
      ]
     },
     "execution_count": 10,
     "metadata": {},
     "output_type": "execute_result"
    }
   ],
   "source": [
    "df.groupby(['region']).size()"
   ]
  },
  {
   "cell_type": "code",
   "execution_count": 11,
   "id": "03828274",
   "metadata": {},
   "outputs": [
    {
     "data": {
      "text/plain": [
       "charges\n",
       "1121.87390     1\n",
       "1131.50660     1\n",
       "1135.94070     1\n",
       "1136.39940     1\n",
       "1137.01100     1\n",
       "              ..\n",
       "55135.40209    1\n",
       "58571.07448    1\n",
       "60021.39897    1\n",
       "62592.87309    1\n",
       "63770.42801    1\n",
       "Length: 1337, dtype: int64"
      ]
     },
     "execution_count": 11,
     "metadata": {},
     "output_type": "execute_result"
    }
   ],
   "source": [
    "df.groupby(['charges']).size()"
   ]
  },
  {
   "cell_type": "code",
   "execution_count": null,
   "id": "479a11be",
   "metadata": {},
   "outputs": [],
   "source": []
  }
 ],
 "metadata": {
  "kernelspec": {
   "display_name": "Python 3 (ipykernel)",
   "language": "python",
   "name": "python3"
  },
  "language_info": {
   "codemirror_mode": {
    "name": "ipython",
    "version": 3
   },
   "file_extension": ".py",
   "mimetype": "text/x-python",
   "name": "python",
   "nbconvert_exporter": "python",
   "pygments_lexer": "ipython3",
   "version": "3.9.13"
  }
 },
 "nbformat": 4,
 "nbformat_minor": 5
}
